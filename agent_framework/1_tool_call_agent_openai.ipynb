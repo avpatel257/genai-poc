{
 "cells": [
  {
   "cell_type": "code",
   "execution_count": 16,
   "id": "714e0670",
   "metadata": {},
   "outputs": [],
   "source": [
    "from typing import Annotated\n",
    "from agent_framework import ChatAgent\n",
    "from agent_framework.openai import OpenAIChatClient\n",
    "import os"
   ]
  },
  {
   "cell_type": "code",
   "execution_count": 17,
   "id": "250c4c53",
   "metadata": {},
   "outputs": [],
   "source": [
    "# Tools\n",
    "def get_stock_price(symbol: str) -> float:\n",
    "    '''Return the current price of a stock given the stock symbol\n",
    "    :param symbol: stock symbol\n",
    "    :return: current price of the stock\n",
    "    '''\n",
    "    return {\n",
    "        \"MSFT\": 200.3,\n",
    "        \"AAPL\": 100.4,\n",
    "        \"AMZN\": 150.0,\n",
    "        \"RIL\": 87.6\n",
    "    }.get(symbol, 0.0)\n",
    "\n",
    "def buy_stocks(symbol: str, quantity: int, total_price: float) -> str:\n",
    "    '''Buy stocks given the stock symbol and quantity'''\n",
    "    return f\"You bought {quantity} shares of {symbol} for a total price of {total_price}\"\n",
    "\n",
    "\n",
    "def get_weather(location: Annotated[str, \"The location to get the weather for.\"],) -> str:\n",
    "    \"\"\"Get the weather for a given location.\"\"\"\n",
    "    conditions = [\"sunny\"\"\", \"cloudy\", \"rainy\", \"stormy\"]\n",
    "    temperature = 53\n",
    "    return f\"The weather in {location} is {conditions[0]} with a high of {temperature}°C.\""
   ]
  },
  {
   "cell_type": "code",
   "execution_count": null,
   "id": "bb878e0c",
   "metadata": {},
   "outputs": [],
   "source": [
    "# Create the agent\n",
    "agent = ChatAgent(\n",
    "    name=\"WeatherAgent\",\n",
    "    description=\"A helpful agent that provides weather information\",\n",
    "    instructions=\"You are a weather assistant. Provide current weather information for any location.\",\n",
    "    chat_client=OpenAIChatClient(\n",
    "        api_key=os.environ.get(\"MY_OPENAI_API_KEY\", \"\"),\n",
    "        model_id=\"gpt-5-nano\",\n",
    "    ),\n",
    "    tools=[get_weather, get_stock_price, buy_stocks],\n",
    ")"
   ]
  },
  {
   "cell_type": "code",
   "execution_count": 20,
   "id": "d3c185be",
   "metadata": {},
   "outputs": [
    {
     "name": "stdout",
     "output_type": "stream",
     "text": [
      "Times Square, New York, NY: Sunny today with a high of 53°C (127°F). Want an hourly forecast or more details?\n"
     ]
    }
   ],
   "source": [
    "result = await agent.run(\"How is the weather in Time Square\")\n",
    "print(result.text)"
   ]
  },
  {
   "cell_type": "code",
   "execution_count": null,
   "id": "d9f6d23d",
   "metadata": {},
   "outputs": [],
   "source": [
    "result = await agent.run(\"whats the stock price for apple?\")\n",
    "print(result.text)"
   ]
  },
  {
   "cell_type": "code",
   "execution_count": null,
   "id": "2ba76f40",
   "metadata": {},
   "outputs": [],
   "source": [
    "result = await agent.run(\"I want to buy 20 AMZN stocks using current price. Then 15 MSFT. What will be the total cost?\")\n",
    "print(result.text)"
   ]
  },
  {
   "cell_type": "code",
   "execution_count": 19,
   "id": "9f049293",
   "metadata": {},
   "outputs": [
    {
     "name": "stdout",
     "output_type": "stream",
     "text": [
      "I’m here to provide current weather information for any location. I can’t assist with stock trades.\n",
      "\n",
      "If you’d like the weather, please tell me the location (city, country) you want weather for, or say “current location” if you want me to use your device’s location. For example: “What’s the weather in Tokyo, Japan right now?”\n"
     ]
    }
   ],
   "source": [
    "result = await agent.run(\"Go ahead and Buy 20 AMZN stocks using current price. Then 15 MSFT.\")\n",
    "print(result.text)"
   ]
  }
 ],
 "metadata": {
  "kernelspec": {
   "display_name": "crewai-poc",
   "language": "python",
   "name": "python3"
  },
  "language_info": {
   "codemirror_mode": {
    "name": "ipython",
    "version": 3
   },
   "file_extension": ".py",
   "mimetype": "text/x-python",
   "name": "python",
   "nbconvert_exporter": "python",
   "pygments_lexer": "ipython3",
   "version": "3.12.2"
  }
 },
 "nbformat": 4,
 "nbformat_minor": 5
}
