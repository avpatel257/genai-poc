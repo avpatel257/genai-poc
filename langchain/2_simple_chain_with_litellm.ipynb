{
 "cells": [
  {
   "cell_type": "code",
   "execution_count": null,
   "id": "3ed2c60502398e4f",
   "metadata": {},
   "outputs": [],
   "source": [
    "from langchain_litellm import ChatLiteLLMRouter\n",
    "from litellm import Router\n",
    "\n",
    "model_list = [\n",
    "    {\n",
    "        \"model_name\": \"llama3.2\",\n",
    "        \"litellm_params\": {\n",
    "            \"model\": \"ollama/llama3.2\",\n",
    "            \"api_base\": \"http://localhost:11434\",\n",
    "        },\n",
    "    },\n",
    "    {\n",
    "        \"model_name\": \"gemma3\",\n",
    "        \"litellm_params\": {\n",
    "            \"model\": \"ollama/gemma3\",\n",
    "            \"api_base\": \"http://localhost:11434\",\n",
    "        },\n",
    "    },\n",
    "    {\n",
    "        \"model_name\": \"gpt-4o\",\n",
    "        \"litellm_params\": {\n",
    "            \"model\": \"openai/gpt-4o\",\n",
    "        },\n",
    "    },\n",
    "]\n",
    "\n",
    "litellm_router = Router(model_list=model_list)\n"
   ]
  },
  {
   "cell_type": "code",
   "execution_count": null,
   "id": "1d990c1d",
   "metadata": {},
   "outputs": [],
   "source": [
    "# Gemma3 Interactions\n",
    "llm = ChatLiteLLMRouter(router=litellm_router, model_name=\"gemma3\")\n",
    "\n",
    "response = await llm.ainvoke(\n",
    "    \"Classify the text into neutral, negative or positive. Text: I think the food was okay. Sentiment:\"\n",
    ")\n",
    "print(response)"
   ]
  },
  {
   "cell_type": "code",
   "execution_count": null,
   "id": "5d5ead2f",
   "metadata": {},
   "outputs": [],
   "source": [
    "# OpenAI Model Interaction\n",
    "llm = ChatLiteLLMRouter(router=litellm_router, model_name=\"gpt-4o\")\n",
    "\n",
    "response = await llm.ainvoke(\n",
    "    \"Classify the text into neutral, negative or positive. Text: I think the food was okay. Sentiment:\"\n",
    ")\n",
    "print(response)\n"
   ]
  }
 ],
 "metadata": {
  "kernelspec": {
   "display_name": "crewai-poc",
   "language": "python",
   "name": "python3"
  },
  "language_info": {
   "codemirror_mode": {
    "name": "ipython",
    "version": 3
   },
   "file_extension": ".py",
   "mimetype": "text/x-python",
   "name": "python",
   "nbconvert_exporter": "python",
   "pygments_lexer": "ipython3",
   "version": "3.12.9"
  }
 },
 "nbformat": 4,
 "nbformat_minor": 5
}
